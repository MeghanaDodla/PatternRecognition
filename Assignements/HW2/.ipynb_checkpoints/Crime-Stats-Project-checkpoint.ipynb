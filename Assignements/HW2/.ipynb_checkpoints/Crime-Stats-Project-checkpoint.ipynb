{
 "cells": [
  {
   "cell_type": "markdown",
   "id": "55e6b918-afac-43e8-b338-43f8ac64014f",
   "metadata": {},
   "source": [
    "##  Deep Neural Networks Project"
   ]
  },
  {
   "cell_type": "markdown",
   "id": "1a8e066d-2849-4a6e-9c71-bb98d605ae07",
   "metadata": {},
   "source": [
    "In this project, you will be working with a real-world data set from the Las Vegas Metropolitan Police Department. The dataset  contains information about the reported incidents, including the time and location of the crime, type of incident, and number of persons involved. "
   ]
  },
  {
   "cell_type": "markdown",
   "id": "9e87fac7-352a-4c39-b087-76254b5e2743",
   "metadata": {},
   "source": [
    "The dataset is downloaded from the public docket at: \n",
    "https://opendata-lvmpd.hub.arcgis.com\n",
    "\n",
    "let's read the csv file and transform the data:"
   ]
  },
  {
   "cell_type": "code",
   "execution_count": 1,
   "id": "637211a4-582f-426b-a127-c3f284463f35",
   "metadata": {},
   "outputs": [],
   "source": [
    "import torch\n",
    "import pandas as pd\n",
    "from torch.utils.data import DataLoader, Dataset\n",
    "import matplotlib.pyplot as plt\n",
    "import seaborn as sns\n",
    "import numpy as np"
   ]
  },
  {
   "cell_type": "code",
   "execution_count": 3,
   "id": "bcf40b02-80b6-4abc-a662-f7ed50a65181",
   "metadata": {},
   "outputs": [],
   "source": [
    "orig_df = pd.read_csv('datasets/LVMPD-Stats.csv', parse_dates=['ReportedOn'])"
   ]
  },
  {
   "cell_type": "code",
   "execution_count": 4,
   "id": "e1ca1d15-3955-4971-a3c4-c1a73b62edda",
   "metadata": {},
   "outputs": [],
   "source": [
    "df = pd.read_csv('datasets/LVMPD-Stats.csv', parse_dates=['ReportedOn'],\n",
    "                 usecols = ['X', 'Y', 'ReportedOn',\n",
    "                            'Area_Command','NIBRSOffenseCode',\n",
    "                            'VictimCount' ] )\n",
    "\n",
    "df['DayOfWeek'] = df['ReportedOn'].dt.day_name()\n",
    "df['Time' ]     = df['ReportedOn'].dt.hour\n",
    "df.drop(columns = 'ReportedOn', inplace=True)"
   ]
  },
  {
   "cell_type": "code",
   "execution_count": 5,
   "id": "3ddc413d-ba3f-4204-bc18-7fdd4de8d221",
   "metadata": {},
   "outputs": [],
   "source": [
    "\n",
    "df['X'] = df['X'] \n",
    "df['Y'] = df['Y'] \n",
    "df['Time'] = pd.factorize(df['Time'])[0]\n",
    "df['DayOfWeek'] = pd.factorize(df['DayOfWeek'])[0]\n",
    "df.Area_Command = pd.factorize(df['Area_Command'])[0]\n",
    "df.VictimCount = pd.factorize(df['VictimCount'])[0]\n",
    "df.NIBRSOffenseCode = pd.factorize(df['NIBRSOffenseCode'])[0]\n",
    "df.dropna(inplace=True)"
   ]
  },
  {
   "cell_type": "code",
   "execution_count": 6,
   "id": "a9c6162f-9686-4195-818d-950a6368c686",
   "metadata": {},
   "outputs": [],
   "source": [
    "df= df[['X', 'Y', 'Area_Command', 'NIBRSOffenseCode',\n",
    "       'DayOfWeek', 'Time','VictimCount']]"
   ]
  },
  {
   "cell_type": "code",
   "execution_count": 7,
   "id": "a90bc78a-6d1b-4fe4-a1b0-8333aec1c851",
   "metadata": {},
   "outputs": [
    {
     "data": {
      "text/plain": [
       "(275, 7)"
      ]
     },
     "execution_count": 7,
     "metadata": {},
     "output_type": "execute_result"
    }
   ],
   "source": [
    "df.values.shape"
   ]
  },
  {
   "cell_type": "markdown",
   "id": "651605b1-8d2c-4d3e-a09e-9aef6e550fc6",
   "metadata": {},
   "source": [
    "# Goal\n",
    "The goal is to build a predictive model that is trained on the following data:\n",
    "* latitude and longitude (location)\n",
    "* Hour of the day\n",
    "* Day of the week\n",
    "* Area-of-command code: The police designation of the bureau of the operation.\n",
    "* Classification code for the crime committed\n",
    "  \n",
    "The predicted variable is the number of persons involved in the accident.\n"
   ]
  },
  {
   "cell_type": "markdown",
   "id": "0e54f0b8-83f9-4db9-88f9-f5a595342069",
   "metadata": {},
   "source": [
    "## Task 1\n",
    "* print a few rows of the values in the dataframe ``df`` and explain what each column of data means. \n",
    "* identify the input and target variables\n",
    "* what is the range of values in each column? Do you need to scale, shift or normalize your data? \n"
   ]
  },
  {
   "cell_type": "code",
   "execution_count": 8,
   "id": "00fe4287-934b-4799-9e43-c3571acfbab4",
   "metadata": {},
   "outputs": [
    {
     "name": "stdout",
     "output_type": "stream",
     "text": [
      "            X          Y  Area_Command  NIBRSOffenseCode  DayOfWeek  Time  \\\n",
      "0 -115.087518  36.216702             0                 0          0     0   \n",
      "1 -115.240172  36.189693             1                 1          1     1   \n",
      "2 -115.143088  36.181329             2                 1          2     0   \n",
      "3 -115.225014  36.117633             3                 1          1     2   \n",
      "4 -115.176708  36.095967             4                 1          1     3   \n",
      "\n",
      "   VictimCount  \n",
      "0            0  \n",
      "1            0  \n",
      "2            1  \n",
      "3            2  \n",
      "4            0  \n"
     ]
    }
   ],
   "source": [
    "print(df.head())\n"
   ]
  },
  {
   "cell_type": "markdown",
   "id": "f2e697b2",
   "metadata": {},
   "source": [
    "X: Latitude of the incident.\n",
    "This represents the north-south position of the incident. A higher value indicates a more northern location, and a lower value indicates a more southern location.\n",
    "\n",
    "Y: Longitude of the incident.\n",
    "This represents the east-west position of the incident. A higher value indicates a more eastern location, and a lower value indicates a more western location.\n",
    "\n",
    "Area_Command: Police designation of the bureau of operation.\n",
    "This is an encoded value representing different police bureaus or operational areas. Each unique value corresponds to a different police bureau or region within Las Vegas.\n",
    "\n",
    "NIBRSOffenseCode: Classification code for the crime committed.\n",
    "This is an encoded value representing the type or category of the reported crime. Each unique code corresponds to a different type of crime as classified by the National Incident-Based Reporting System (NIBRS).\n",
    "\n",
    "DayOfWeek: Day of the week when the incident was reported.\n",
    "This column has been transformed to represent days as integers. \n",
    "\n",
    "Time: Hour of the day when the incident was reported.\n",
    "This represents the hour when the incident took place, encoded as integers ranging from 0 (midnight) to 23 (11 PM).\n",
    "\n",
    "VictimCount: Number of persons involved in the incident.\n",
    "This column indicates the number of individuals who were victims in the reported incident. "
   ]
  },
  {
   "cell_type": "code",
   "execution_count": 9,
   "id": "55047f0f",
   "metadata": {},
   "outputs": [
    {
     "name": "stdout",
     "output_type": "stream",
     "text": [
      "                X           Y  Area_Command  NIBRSOffenseCode   DayOfWeek  \\\n",
      "count  275.000000  275.000000    275.000000        275.000000  275.000000   \n",
      "mean  -115.159326   36.143360      3.978182          0.909091    2.981818   \n",
      "std      0.101294    0.118418      3.045799          0.334878    1.924590   \n",
      "min   -116.000000   35.068419      0.000000          0.000000    0.000000   \n",
      "25%   -115.209198   36.114704      1.000000          1.000000    1.000000   \n",
      "50%   -115.149945   36.152415      3.000000          1.000000    3.000000   \n",
      "75%   -115.105200   36.183854      6.000000          1.000000    5.000000   \n",
      "max   -114.625570   37.000000     11.000000          2.000000    6.000000   \n",
      "\n",
      "             Time  VictimCount  \n",
      "count  275.000000   275.000000  \n",
      "mean    11.236364     0.712727  \n",
      "std      7.039937     0.978427  \n",
      "min      0.000000     0.000000  \n",
      "25%      5.000000     0.000000  \n",
      "50%     11.000000     0.000000  \n",
      "75%     18.000000     1.000000  \n",
      "max     23.000000     6.000000  \n"
     ]
    }
   ],
   "source": [
    "#To determine the range of values in each column, we can use the describe() function from pandas. This function provides descriptive statistics including the minimum and maximum values, which help us understand the range for each column.\n",
    "\n",
    "print(df.describe())"
   ]
  },
  {
   "cell_type": "markdown",
   "id": "8482e486",
   "metadata": {},
   "source": [
    "Regarding scaling, shifting, or normalizing:\n",
    "\n",
    "X (Latitude) and Y (Longitude): These values, which represent geographic coordinates, might have varying magnitudes. For many machine learning models (especially neural networks), it can be beneficial to normalize or scale these features to have zero mean and unit variance.\n",
    "\n",
    "Area_Command, NIBRSOffenseCode, DayOfWeek, and Time: These columns are encoded categorical or discrete-time values. Depending on the model used, normalization might not be strictly necessary, but one-hot encoding could be considered. For neural networks, scaling can often help with convergence.\n",
    "\n",
    "VictimCount: This is the target variable. Depending on the range and the model you choose, you might consider scaling this too. If it varies significantly, then scaling can help models like neural networks to predict it more accurately.\n",
    "\n",
    "In general, scaling or normalizing data can be particularly crucial when using models sensitive to the feature scales, like neural networks or models that use gradient descent optimization. It ensures faster convergence and can sometimes lead to better performance."
   ]
  },
  {
   "cell_type": "code",
   "execution_count": 10,
   "id": "279c7da9",
   "metadata": {},
   "outputs": [],
   "source": [
    "from sklearn.preprocessing import StandardScaler\n",
    "\n",
    "scaler = StandardScaler()\n",
    "scaled_values = scaler.fit_transform(df)\n",
    "df_scaled = pd.DataFrame(scaled_values, columns=df.columns)\n"
   ]
  },
  {
   "cell_type": "markdown",
   "id": "ed0705be",
   "metadata": {},
   "source": [
    "## Task 2\n",
    "\n",
    "* Create two `DataLoader` objects for training and testing based on the input and output variables. Pick a reasonable batch size and verify the shape of data by iterating over the one dataset and printing the shape of the batched data."
   ]
  },
  {
   "cell_type": "code",
   "execution_count": 341,
   "id": "5343c13d",
   "metadata": {},
   "outputs": [
    {
     "name": "stdout",
     "output_type": "stream",
     "text": [
      "torch.Size([32, 6]) torch.Size([32])\n"
     ]
    }
   ],
   "source": [
    "from sklearn.model_selection import train_test_split\n",
    "from torch.utils.data import DataLoader, TensorDataset\n",
    "\n",
    "# Split the dataset into 80% training and 20% testing\n",
    "train_df, test_df = train_test_split(df, test_size=0.2, random_state=42)\n",
    "\n",
    "# Separate input and output variables for both training and testing datasets\n",
    "X_train = train_df[['X', 'Y', 'Area_Command', 'NIBRSOffenseCode', 'DayOfWeek', 'Time']].values\n",
    "y_train = train_df['VictimCount'].values\n",
    "\n",
    "X_test = test_df[['X', 'Y', 'Area_Command', 'NIBRSOffenseCode', 'DayOfWeek', 'Time']].values\n",
    "y_test = test_df['VictimCount'].values\n",
    "\n",
    "# Convert datasets into PyTorch tensors\n",
    "X_train_tensor = torch.tensor(X_train, dtype=torch.float32)\n",
    "y_train_tensor = torch.tensor(y_train, dtype=torch.float32)\n",
    "\n",
    "X_test_tensor = torch.tensor(X_test, dtype=torch.float32)\n",
    "y_test_tensor = torch.tensor(y_test, dtype=torch.float32)\n",
    "\n",
    "# Create custom Dataset objects\n",
    "train_dataset = TensorDataset(X_train_tensor, y_train_tensor)\n",
    "test_dataset = TensorDataset(X_test_tensor, y_test_tensor)\n",
    "\n",
    "# Create DataLoader objects with a specified batch size\n",
    "batch_size = 32  # You can adjust this value based on the size of your dataset and memory constraints\n",
    "train_loader = DataLoader(train_dataset, batch_size=batch_size, shuffle=True)\n",
    "test_loader = DataLoader(test_dataset, batch_size=batch_size, shuffle=False)\n",
    "\n",
    "# Verify the shape of data by iterating over the training dataset and printing the shape of the batched data\n",
    "for data, target in train_loader:\n",
    "    print(data.shape, target.shape)\n",
    "    break\n"
   ]
  },
  {
   "cell_type": "markdown",
   "id": "1fb6f08c-5e70-4b14-b62c-4686d9f7aace",
   "metadata": {},
   "source": [
    "## Task 3\n",
    "In this task you will try to predict number of crime victims as a **real number**. Therefore the machine learning problem is a **regression** problem. \n",
    "\n",
    "* Define the proper loss function for this task\n",
    "* what should the size of the predicted output be?\n",
    "* explain your choice of architecture, including how many layers you will be using\n",
    "* define an optimizer for training this model, choose a proper learning rate \n",
    "* write a training loop that obtains a batch out of the  training data and calculates the forward and backward passes over the neural network. Call the optimizer to update the weights of the neural network.\n",
    "* write a for loop that continues the training over a number of epochs. At the end of each epoch, calculate the ``MSE`` error on the test data and print it.\n",
    "* is your model training well? Adjust the learning rate, hidden size of the network, and try different activation functions and number of layers to achieve the best accuracy and report it. "
   ]
  },
  {
   "cell_type": "markdown",
   "id": "d8fa7924",
   "metadata": {},
   "source": [
    "1. Define the Proper Loss Function for this Task:\n",
    "For regression tasks, the most commonly used loss function is the Mean Squared Error (MSE) Loss."
   ]
  },
  {
   "cell_type": "code",
   "execution_count": 342,
   "id": "9359a272",
   "metadata": {},
   "outputs": [],
   "source": [
    "loss_function = nn.MSELoss()\n"
   ]
  },
  {
   "cell_type": "markdown",
   "id": "969dbcef",
   "metadata": {},
   "source": [
    "2. what should the size of the predicted output be?\n",
    "Since the task is to predict the number of crime victims, which is a single real number for each instance, the size of the predicted output for each input should be 1."
   ]
  },
  {
   "cell_type": "markdown",
   "id": "603e18e6",
   "metadata": {},
   "source": [
    "3. explain your choice of architecture, including how many layers you will be using\n",
    "\n",
    "Input Layer: The number of neurons corresponds to the number of input features.\n",
    "\n",
    "Hidden Layers: These are intermediate layers between input and output layers. The number of hidden layers and the number of neurons in each hidden layer are hyperparameters that can vary. For relatively simple tasks, a couple of hidden layers might suffice. However, for more complex tasks, more hidden layers might be beneficial.\n",
    "\n",
    "Output Layer: A single neuron, since we're predicting a continuous value.\n",
    "\n",
    "Activation Functions: ReLU (Rectified Linear Unit) is commonly used in the hidden layers because of its non-linearity and computational efficiency. No activation function is used in the output layer for regression tasks."
   ]
  },
  {
   "cell_type": "markdown",
   "id": "81a16ef1",
   "metadata": {},
   "source": [
    "4. define an optimizer for training this model, choose a proper learning rate\n",
    "\n",
    "I'll use the Adam optimizer with a learning rate of 0.001 (a typical starting point, but this can be tuned)."
   ]
  },
  {
   "cell_type": "code",
   "execution_count": 343,
   "id": "a3e32b79",
   "metadata": {},
   "outputs": [
    {
     "name": "stdout",
     "output_type": "stream",
     "text": [
      "Epoch 1/10 - Training Loss: 90.6296, Validation MSE: 42.6477\n",
      "Epoch 2/10 - Training Loss: 24.2691, Validation MSE: 5.2047\n",
      "Epoch 3/10 - Training Loss: 2.5179, Validation MSE: 1.9329\n",
      "Epoch 4/10 - Training Loss: 3.3935, Validation MSE: 5.3012\n",
      "Epoch 5/10 - Training Loss: 4.5596, Validation MSE: 3.5519\n",
      "Epoch 6/10 - Training Loss: 2.2340, Validation MSE: 1.2251\n",
      "Epoch 7/10 - Training Loss: 1.0616, Validation MSE: 0.9800\n",
      "Epoch 8/10 - Training Loss: 1.2375, Validation MSE: 1.1161\n",
      "Epoch 9/10 - Training Loss: 1.2095, Validation MSE: 0.9544\n",
      "Epoch 10/10 - Training Loss: 1.0654, Validation MSE: 0.9332\n"
     ]
    }
   ],
   "source": [
    "import torch\n",
    "import torch.nn as nn\n",
    "import torch.optim as optim\n",
    "from torch.utils.data import DataLoader\n",
    "\n",
    "class RegressionModel(nn.Module):\n",
    "    def __init__(self, input_features, hidden_units, output_units):\n",
    "        super().__init__()\n",
    "        self.layer1 = nn.Linear(input_features, hidden_units)\n",
    "        self.layer2 = nn.Linear(hidden_units, hidden_units)\n",
    "        self.layer3 = nn.Linear(hidden_units, output_units)\n",
    "        \n",
    "    def forward(self, x):\n",
    "        x = nn.ReLU()(self.layer1(x))\n",
    "        x = nn.ReLU()(self.layer2(x))\n",
    "        return self.layer3(x)\n",
    "\n",
    "class ModelTrainer:\n",
    "    def __init__(self, model, optimizer, criterion):\n",
    "        self.model = model\n",
    "        self.optimizer = optimizer\n",
    "        self.criterion = criterion\n",
    "    \n",
    "    def train_epoch(self, dataloader):\n",
    "        self.model.train()\n",
    "        running_loss = 0.0\n",
    "        for inputs, targets in dataloader:\n",
    "            self.optimizer.zero_grad()\n",
    "            outputs = self.model(inputs)\n",
    "            loss = self.criterion(outputs, targets.view(-1, 1))\n",
    "            loss.backward()\n",
    "            self.optimizer.step()\n",
    "            running_loss += loss.item()\n",
    "        return running_loss / len(dataloader)\n",
    "\n",
    "    def validate(self, dataloader):\n",
    "        self.model.eval()\n",
    "        test_loss = 0.0\n",
    "        with torch.no_grad():\n",
    "            for inputs, targets in dataloader:\n",
    "                outputs = self.model(inputs)\n",
    "                loss = self.criterion(outputs, targets.view(-1, 1))\n",
    "                test_loss += loss.item()\n",
    "        return test_loss / len(dataloader)\n",
    "\n",
    "# Hyperparameters\n",
    "input_dim = X.shape[1]\n",
    "hidden_dim = 128\n",
    "output_dim = 1\n",
    "lr = 0.0001\n",
    "num_epochs = 10\n",
    "\n",
    "# Instantiate model, criterion, optimizer\n",
    "model = RegressionModel(input_dim, hidden_dim, output_dim)\n",
    "criterion = nn.MSELoss()\n",
    "optimizer = optim.Adam(model.parameters(), lr=lr)\n",
    "trainer = ModelTrainer(model, optimizer, criterion)\n",
    "\n",
    "# Training loop\n",
    "for epoch in range(num_epochs):\n",
    "    train_loss = trainer.train_epoch(train_loader)\n",
    "    val_loss = trainer.validate(test_loader)\n",
    "    print(f\"Epoch {epoch+1}/{num_epochs} - Training Loss: {train_loss:.4f}, Validation MSE: {val_loss:.4f}\")\n"
   ]
  },
  {
   "cell_type": "code",
   "execution_count": 344,
   "id": "34971c5f",
   "metadata": {},
   "outputs": [
    {
     "name": "stdout",
     "output_type": "stream",
     "text": [
      "Epoch 1/10 - Training Loss: 316.0646, Validation MSE: 2.2077\n",
      "Epoch 2/10 - Training Loss: 20.7395, Validation MSE: 5.9356\n",
      "Epoch 3/10 - Training Loss: 7.5316, Validation MSE: 2.1893\n",
      "Epoch 4/10 - Training Loss: 2.5520, Validation MSE: 1.1323\n",
      "Epoch 5/10 - Training Loss: 1.1418, Validation MSE: 1.1741\n",
      "Epoch 6/10 - Training Loss: 1.1433, Validation MSE: 0.9508\n",
      "Epoch 7/10 - Training Loss: 1.0035, Validation MSE: 0.9728\n",
      "Epoch 8/10 - Training Loss: 1.0306, Validation MSE: 0.9680\n",
      "Epoch 9/10 - Training Loss: 0.9993, Validation MSE: 0.9438\n",
      "Epoch 10/10 - Training Loss: 0.9835, Validation MSE: 0.9440\n"
     ]
    }
   ],
   "source": [
    "import torch\n",
    "import torch.nn as nn\n",
    "import torch.optim as optim\n",
    "from torch.utils.data import DataLoader\n",
    "\n",
    "class RegressionModel(nn.Module):\n",
    "    def __init__(self, input_features, hidden_units, output_units):\n",
    "        super().__init__()\n",
    "        self.layer1 = nn.Linear(input_features, hidden_units)\n",
    "        self.layer2 = nn.Linear(hidden_units, hidden_units)\n",
    "        self.layer3 = nn.Linear(hidden_units, output_units)\n",
    "        \n",
    "    def forward(self, x):\n",
    "        x = nn.ReLU()(self.layer1(x))\n",
    "        x = nn.ReLU()(self.layer2(x))\n",
    "        return self.layer3(x)\n",
    "\n",
    "class ModelTrainer:\n",
    "    def __init__(self, model, optimizer, criterion):\n",
    "        self.model = model\n",
    "        self.optimizer = optimizer\n",
    "        self.criterion = criterion\n",
    "    \n",
    "    def train_epoch(self, dataloader):\n",
    "        self.model.train()\n",
    "        running_loss = 0.0\n",
    "        for inputs, targets in dataloader:\n",
    "            self.optimizer.zero_grad()\n",
    "            outputs = self.model(inputs)\n",
    "            loss = self.criterion(outputs, targets.view(-1, 1))\n",
    "            loss.backward()\n",
    "            self.optimizer.step()\n",
    "            running_loss += loss.item()\n",
    "        return running_loss / len(dataloader)\n",
    "\n",
    "    def validate(self, dataloader):\n",
    "        self.model.eval()\n",
    "        test_loss = 0.0\n",
    "        with torch.no_grad():\n",
    "            for inputs, targets in dataloader:\n",
    "                outputs = self.model(inputs)\n",
    "                loss = self.criterion(outputs, targets.view(-1, 1))\n",
    "                test_loss += loss.item()\n",
    "        return test_loss / len(dataloader)\n",
    "\n",
    "# Hyperparameters\n",
    "input_dim = X.shape[1]\n",
    "hidden_dim = 128\n",
    "output_dim = 1\n",
    "lr = 0.01\n",
    "num_epochs = 10\n",
    "\n",
    "# Instantiate model, criterion, optimizer\n",
    "model = RegressionModel(input_dim, hidden_dim, output_dim)\n",
    "criterion = nn.MSELoss()\n",
    "optimizer = optim.Adam(model.parameters(), lr=lr)\n",
    "trainer = ModelTrainer(model, optimizer, criterion)\n",
    "\n",
    "# Training loop\n",
    "for epoch in range(num_epochs):\n",
    "    train_loss = trainer.train_epoch(train_loader)\n",
    "    val_loss = trainer.validate(test_loader)\n",
    "    print(f\"Epoch {epoch+1}/{num_epochs} - Training Loss: {train_loss:.4f}, Validation MSE: {val_loss:.4f}\")\n"
   ]
  },
  {
   "cell_type": "markdown",
   "id": "86e3fc70-c6ce-4589-9930-128951290e8d",
   "metadata": {},
   "source": [
    "## Task 4 \n",
    "\n",
    "In this task, you will try to predict the number of crime victims as a **class number**. Therefore the machine learning problem is a **classification** problem. \n",
    "\n",
    "* Repeat all the steps in task 3. Specifically, pay attention to the differences with regression.\n",
    "* How would you find the number of classes on the output data?\n",
    "* How is the architecture different?\n",
    "* How is the loss function different?\n",
    "* Calculate the Accuracy for test data as the number of correct classified outputs divided by the total number of test data in each epoch. Report it at the end of each epoch\n",
    "* Try a few variations of learning rate, hidden dimensions, layers, etc. What is the best accuracy that you can get? "
   ]
  },
  {
   "cell_type": "markdown",
   "id": "2d19bcec",
   "metadata": {},
   "source": [
    "1. How would you find the number of classes on the output data?\n",
    "\n",
    "You can determine the number of unique values (classes) in the VictimCount column:"
   ]
  },
  {
   "cell_type": "code",
   "execution_count": 345,
   "id": "2a63b974",
   "metadata": {},
   "outputs": [
    {
     "name": "stdout",
     "output_type": "stream",
     "text": [
      "Number of classes: 7\n"
     ]
    }
   ],
   "source": [
    "num_classes = len(np.unique(y_train))\n",
    "print(\"Number of classes:\", num_classes)\n"
   ]
  },
  {
   "cell_type": "markdown",
   "id": "6d0ac0f0",
   "metadata": {},
   "source": [
    "2.How is the architecture different?\n",
    "\n",
    "The architecture can be somewhat similar, but the output layer should now match the number of classes. If the number of classes is high, consider using a larger hidden layer."
   ]
  },
  {
   "cell_type": "markdown",
   "id": "7cb73e15",
   "metadata": {},
   "source": [
    "3. How is the loss function different?\n",
    "\n",
    "For classification, you'd use a loss function suitable for multi-class classification, like the CrossEntropyLoss:"
   ]
  },
  {
   "cell_type": "markdown",
   "id": "d14a4a08",
   "metadata": {},
   "source": [
    "4.Calculate the Accuracy for test data:\n",
    "\n",
    "You can compute the accuracy as the ratio of correctly predicted labels to the total number of samples. For this, you'd typically take the class with the highest predicted probability as the model's prediction:"
   ]
  },
  {
   "cell_type": "code",
   "execution_count": 346,
   "id": "a465ec24",
   "metadata": {},
   "outputs": [
    {
     "name": "stdout",
     "output_type": "stream",
     "text": [
      "Epoch 1/15, Loss: 1.9254, Accuracy: 16.3636%\n",
      "Epoch 2/15, Loss: 1.8994, Accuracy: 25.4545%\n",
      "Epoch 3/15, Loss: 1.8732, Accuracy: 29.0909%\n",
      "Epoch 4/15, Loss: 1.8543, Accuracy: 30.9091%\n",
      "Epoch 5/15, Loss: 1.8326, Accuracy: 36.3636%\n",
      "Epoch 6/15, Loss: 1.8074, Accuracy: 41.8182%\n",
      "Epoch 7/15, Loss: 1.7834, Accuracy: 41.8182%\n",
      "Epoch 8/15, Loss: 1.7661, Accuracy: 49.0909%\n",
      "Epoch 9/15, Loss: 1.7446, Accuracy: 47.2727%\n",
      "Epoch 10/15, Loss: 1.7197, Accuracy: 49.0909%\n",
      "Epoch 11/15, Loss: 1.6984, Accuracy: 52.7273%\n",
      "Epoch 12/15, Loss: 1.6755, Accuracy: 52.7273%\n",
      "Epoch 13/15, Loss: 1.6484, Accuracy: 56.3636%\n",
      "Epoch 14/15, Loss: 1.6358, Accuracy: 56.3636%\n",
      "Epoch 15/15, Loss: 1.6081, Accuracy: 56.3636%\n",
      "Best Accuracy Achieved: 56.3636%\n"
     ]
    }
   ],
   "source": [
    "import numpy as np\n",
    "import torch\n",
    "import torch.nn.functional as F\n",
    "from sklearn.model_selection import train_test_split\n",
    "from sklearn.preprocessing import StandardScaler\n",
    "from sklearn.metrics import accuracy_score\n",
    "from torch import nn, optim\n",
    "from torch.optim.lr_scheduler import ReduceLROnPlateau\n",
    "from torch.utils.data import DataLoader, TensorDataset\n",
    "\n",
    "# Seeds\n",
    "SEED = 42\n",
    "torch.manual_seed(SEED)\n",
    "torch.backends.cudnn.deterministic = True\n",
    "torch.backends.cudnn.benchmark = False\n",
    "np.random.seed(SEED)\n",
    "\n",
    "# Dataset loading and preprocessing\n",
    "features = df.drop(columns='VictimCount').values\n",
    "labels = df['VictimCount'].values\n",
    "\n",
    "X = torch.tensor(features, dtype=torch.float32)\n",
    "y = torch.tensor(labels, dtype=torch.int64)\n",
    "\n",
    "X_train_data, X_test_data, y_train_data, y_test_data = train_test_split(X, y, test_size=0.2, random_state=SEED)\n",
    "\n",
    "scaler = StandardScaler()\n",
    "X_train = torch.Tensor(scaler.fit_transform(X_train_data))\n",
    "X_test = torch.Tensor(scaler.transform(X_test_data))\n",
    "\n",
    "# Model definition\n",
    "class NeuralNet(nn.Module):\n",
    "    def __init__(self, input_dim, hidden_dim, output_dim):\n",
    "        super(NeuralNet, self).__init__()\n",
    "        self.layer1 = nn.Linear(input_dim, hidden_dim)\n",
    "        self.layer2 = nn.Linear(hidden_dim, hidden_dim)\n",
    "        self.layer3 = nn.Linear(hidden_dim, output_dim)\n",
    "\n",
    "    def forward(self, x):\n",
    "        x = F.relu(self.layer1(x))\n",
    "        x = F.relu(self.layer2(x))\n",
    "        return self.layer3(x)\n",
    "\n",
    "# Hyperparameters and model instantiation\n",
    "input_dimension = X_train.shape[1]\n",
    "hidden_dimension = 128\n",
    "output_dimension = len(np.unique(y))\n",
    "\n",
    "net = NeuralNet(input_dimension, hidden_dimension, output_dimension)\n",
    "loss_fn = nn.CrossEntropyLoss()\n",
    "optimizer = optim.Adam(net.parameters(), lr=0.0001)\n",
    "\n",
    "# DataLoader setup\n",
    "BATCH_SIZE = 64\n",
    "train_dataset = TensorDataset(X_train, y_train_data)\n",
    "test_dataset = TensorDataset(X_test, y_test_data)\n",
    "train_loader = DataLoader(train_dataset, batch_size=BATCH_SIZE, shuffle=True)\n",
    "test_loader = DataLoader(test_dataset, batch_size=BATCH_SIZE)\n",
    "\n",
    "# Learning rate scheduler and early stopping setup\n",
    "lr_scheduler = ReduceLROnPlateau(optimizer, 'min', factor=0.5, patience=5, verbose=True)\n",
    "best_acc = 0\n",
    "stop_early = 10\n",
    "counter = 0\n",
    "\n",
    "# Training loop\n",
    "EPOCHS = 15\n",
    "\n",
    "for epoch in range(EPOCHS):\n",
    "    net.train()\n",
    "    loss_total = 0.0\n",
    "\n",
    "    for data, label in train_loader:\n",
    "        prediction = net(data)\n",
    "        loss = loss_fn(prediction, label)\n",
    "\n",
    "        optimizer.zero_grad()\n",
    "        loss.backward()\n",
    "        optimizer.step()\n",
    "\n",
    "        loss_total += loss.item()\n",
    "\n",
    "    avg_loss = loss_total / len(train_loader)\n",
    "    correct_preds = 0\n",
    "\n",
    "    net.eval()\n",
    "    with torch.no_grad():\n",
    "        for data, label in test_loader:\n",
    "            prediction = net(data)\n",
    "            correct_preds += (torch.argmax(prediction, dim=1) == label).sum().item()\n",
    "\n",
    "        accuracy = correct_preds / len(test_loader.dataset)\n",
    "\n",
    "        print(f\"Epoch {epoch + 1}/{EPOCHS}, Loss: {avg_loss:.4f}, Accuracy: {accuracy*100:.4f}%\")\n",
    "\n",
    "        # Learning rate adjustment and early stopping check\n",
    "        lr_scheduler.step(avg_loss)\n",
    "\n",
    "        if accuracy > best_acc:\n",
    "            best_acc = accuracy\n",
    "            counter = 0\n",
    "        else:\n",
    "            counter += 1\n",
    "            if counter >= stop_early:\n",
    "                print(f\"Stopped Early! Best Accuracy: {best_acc*100:.4f}%\")\n",
    "                break\n",
    "print(f\"Best Accuracy Achieved: {best_acc*100:.4f}%\")"
   ]
  },
  {
   "cell_type": "code",
   "execution_count": 347,
   "id": "f5ebe206",
   "metadata": {},
   "outputs": [
    {
     "name": "stdout",
     "output_type": "stream",
     "text": [
      "Epoch 1/20, Loss: 1.3524, Accuracy: 54.5455%\n",
      "Epoch 2/20, Loss: 1.1794, Accuracy: 36.3636%\n",
      "Epoch 3/20, Loss: 1.0008, Accuracy: 54.5455%\n",
      "Epoch 4/20, Loss: 0.9663, Accuracy: 43.6364%\n",
      "Epoch 5/20, Loss: 0.9296, Accuracy: 43.6364%\n",
      "Epoch 6/20, Loss: 0.8920, Accuracy: 50.9091%\n",
      "Epoch 7/20, Loss: 0.8634, Accuracy: 58.1818%\n",
      "Epoch 8/20, Loss: 0.8941, Accuracy: 47.2727%\n",
      "Epoch 9/20, Loss: 0.8215, Accuracy: 47.2727%\n",
      "Epoch 10/20, Loss: 0.7724, Accuracy: 43.6364%\n",
      "Epoch 11/20, Loss: 0.7944, Accuracy: 50.9091%\n",
      "Epoch 12/20, Loss: 0.7184, Accuracy: 41.8182%\n",
      "Epoch 13/20, Loss: 0.7076, Accuracy: 49.0909%\n",
      "Epoch 14/20, Loss: 0.7275, Accuracy: 52.7273%\n",
      "Epoch 15/20, Loss: 0.7037, Accuracy: 45.4545%\n",
      "Epoch 16/20, Loss: 0.6509, Accuracy: 49.0909%\n",
      "Epoch 17/20, Loss: 0.6264, Accuracy: 43.6364%\n",
      "Stopped Early! Best Accuracy: 58.1818%\n",
      "Best Accuracy Achieved: 58.1818%\n"
     ]
    }
   ],
   "source": [
    "import numpy as np\n",
    "import torch\n",
    "import torch.nn.functional as F\n",
    "from sklearn.model_selection import train_test_split\n",
    "from sklearn.preprocessing import StandardScaler\n",
    "from sklearn.metrics import accuracy_score\n",
    "from torch import nn, optim\n",
    "from torch.optim.lr_scheduler import ReduceLROnPlateau\n",
    "from torch.utils.data import DataLoader, TensorDataset\n",
    "\n",
    "# Seeds\n",
    "SEED = 42\n",
    "torch.manual_seed(SEED)\n",
    "torch.backends.cudnn.deterministic = True\n",
    "torch.backends.cudnn.benchmark = False\n",
    "np.random.seed(SEED)\n",
    "\n",
    "# Dataset loading and preprocessing\n",
    "features = df.drop(columns='VictimCount').values\n",
    "labels = df['VictimCount'].values\n",
    "\n",
    "X = torch.tensor(features, dtype=torch.float32)\n",
    "y = torch.tensor(labels, dtype=torch.int64)\n",
    "\n",
    "X_train_data, X_test_data, y_train_data, y_test_data = train_test_split(X, y, test_size=0.2, random_state=SEED)\n",
    "\n",
    "scaler = StandardScaler()\n",
    "X_train = torch.Tensor(scaler.fit_transform(X_train_data))\n",
    "X_test = torch.Tensor(scaler.transform(X_test_data))\n",
    "\n",
    "# Model definition\n",
    "class NeuralNet(nn.Module):\n",
    "    def __init__(self, input_dim, hidden_dim, output_dim):\n",
    "        super(NeuralNet, self).__init__()\n",
    "        self.layer1 = nn.Linear(input_dim, hidden_dim)\n",
    "        self.layer2 = nn.Linear(hidden_dim, hidden_dim)\n",
    "        self.layer3 = nn.Linear(hidden_dim, output_dim)\n",
    "\n",
    "    def forward(self, x):\n",
    "        x = F.relu(self.layer1(x))\n",
    "        x = F.relu(self.layer2(x))\n",
    "        return self.layer3(x)\n",
    "\n",
    "# Hyperparameters and model instantiation\n",
    "input_dimension = X_train.shape[1]\n",
    "hidden_dimension = 256\n",
    "output_dimension = len(np.unique(y))\n",
    "\n",
    "net = NeuralNet(input_dimension, hidden_dimension, output_dimension)\n",
    "loss_fn = nn.CrossEntropyLoss()\n",
    "optimizer = optim.Adam(net.parameters(), lr=0.01)\n",
    "\n",
    "# DataLoader setup\n",
    "BATCH_SIZE = 64\n",
    "train_dataset = TensorDataset(X_train, y_train_data)\n",
    "test_dataset = TensorDataset(X_test, y_test_data)\n",
    "train_loader = DataLoader(train_dataset, batch_size=BATCH_SIZE, shuffle=True)\n",
    "test_loader = DataLoader(test_dataset, batch_size=BATCH_SIZE)\n",
    "\n",
    "# Learning rate scheduler and early stopping setup\n",
    "lr_scheduler = ReduceLROnPlateau(optimizer, 'min', factor=0.5, patience=5, verbose=True)\n",
    "best_acc = 0\n",
    "stop_early = 10\n",
    "counter = 0\n",
    "\n",
    "# Training loop\n",
    "EPOCHS = 20\n",
    "\n",
    "for epoch in range(EPOCHS):\n",
    "    net.train()\n",
    "    loss_total = 0.0\n",
    "\n",
    "    for data, label in train_loader:\n",
    "        prediction = net(data)\n",
    "        loss = loss_fn(prediction, label)\n",
    "\n",
    "        optimizer.zero_grad()\n",
    "        loss.backward()\n",
    "        optimizer.step()\n",
    "\n",
    "        loss_total += loss.item()\n",
    "\n",
    "    avg_loss = loss_total / len(train_loader)\n",
    "    correct_preds = 0\n",
    "\n",
    "    net.eval()\n",
    "    with torch.no_grad():\n",
    "        for data, label in test_loader:\n",
    "            prediction = net(data)\n",
    "            correct_preds += (torch.argmax(prediction, dim=1) == label).sum().item()\n",
    "\n",
    "        accuracy = correct_preds / len(test_loader.dataset)\n",
    "\n",
    "        print(f\"Epoch {epoch + 1}/{EPOCHS}, Loss: {avg_loss:.4f}, Accuracy: {accuracy*100:.4f}%\")\n",
    "\n",
    "        # Learning rate adjustment and early stopping check\n",
    "        lr_scheduler.step(avg_loss)\n",
    "\n",
    "        if accuracy > best_acc:\n",
    "            best_acc = accuracy\n",
    "            counter = 0\n",
    "        else:\n",
    "            counter += 1\n",
    "            if counter >= stop_early:\n",
    "                print(f\"Stopped Early! Best Accuracy: {best_acc*100:.4f}%\")\n",
    "                break\n",
    "print(f\"Best Accuracy Achieved: {best_acc*100:.4f}%\")"
   ]
  },
  {
   "cell_type": "markdown",
   "id": "84d2a304-6197-4cd9-b31e-745f7862f213",
   "metadata": {},
   "source": [
    "## Task 5"
   ]
  },
  {
   "cell_type": "markdown",
   "id": "d6e4ef16-d828-45e5-bd58-1c49fcfecf52",
   "metadata": {},
   "source": [
    "### Reflect on your results\n",
    "\n",
    "* Write a paragraph about your experience with tasks 3 and 4. How do you compare the results? Which one worked better? Why?\n",
    "* Write a piece of code that finds an example of a  miss-classification. Calculate the probabilities for the output classes and plot them in a bar chart. Also, indicate what is the correct class label."
   ]
  },
  {
   "cell_type": "code",
   "execution_count": 348,
   "id": "98054333",
   "metadata": {},
   "outputs": [
    {
     "data": {
      "image/png": "[encoded data removed]",
      "text/plain": [
       "<Figure size 1000x600 with 1 Axes>"
      ]
     },
     "metadata": {},
     "output_type": "display_data"
    }
   ],
   "source": [
    "import matplotlib.pyplot as plt\n",
    "\n",
    "# Finding a misclassified example\n",
    "net.eval()\n",
    "misclassified_examples = []\n",
    "\n",
    "with torch.no_grad():\n",
    "    for data, label in test_loader:\n",
    "        prediction = net(data)\n",
    "        pred_labels = torch.argmax(prediction, dim=1)\n",
    "        \n",
    "        mismatches = (pred_labels != label).nonzero(as_tuple=True)[0]\n",
    "        for mismatch in mismatches:\n",
    "            misclassified_examples.append((data[mismatch], label[mismatch], prediction[mismatch]))\n",
    "\n",
    "# Taking the first misclassified example from the list\n",
    "data, true_label, predicted_probs = misclassified_examples[0]\n",
    "predicted_probs = F.softmax(predicted_probs, dim=0)\n",
    "\n",
    "# Plotting the probabilities in a bar chart\n",
    "plt.figure(figsize=(10,6))\n",
    "plt.bar(range(len(predicted_probs)), predicted_probs.cpu().numpy())\n",
    "plt.xlabel(\"Class\")\n",
    "plt.ylabel(\"Probability\")\n",
    "plt.title(f\"Misclassified Example (True label: {true_label.item()})\")\n",
    "plt.xticks(range(len(predicted_probs)))\n",
    "plt.show()\n"
   ]
  },
  {
   "cell_type": "markdown",
   "id": "5b000b0b-fa37-4f8d-8ec7-0a1e6e749424",
   "metadata": {},
   "source": [
    "## Task 6: Exploring the patterns in raw data\n",
    "\n",
    "* Plot the crime incidents as a `scatter` plot using the corrdinates. Use the color property of each datapoint to indicate the day of the week. Is there a pattern in the plot?\n",
    "* Now make a new scatter plot and use the color property of each datapoint to indicate the number of persons involved in the incident. Is there a pattern here?\n",
    "* use numpy (or pandas if you like) to sort the number of crimes reported by the day of the week. What days are most frequent?\n"
   ]
  },
  {
   "cell_type": "code",
   "execution_count": 352,
   "id": "5b396aaf-5d1a-49cd-ae1d-b63af7e561f5",
   "metadata": {},
   "outputs": [
    {
     "data": {
      "image/png": "[encoded data removed]",
      "text/plain": [
       "<Figure size 1200x600 with 2 Axes>"
      ]
     },
     "metadata": {},
     "output_type": "display_data"
    }
   ],
   "source": [
    "import matplotlib.pyplot as plt\n",
    "\n",
    "# Assuming 'longitude' and 'latitude' columns exist in your df\n",
    "# and you have a column 'day_of_week' (or similar) indicating days as numerical values\n",
    "plt.figure(figsize=(12, 6))\n",
    "plt.scatter(df['X'], df['Y'], c=df['DayOfWeek'], cmap='jet', alpha=0.5)\n",
    "plt.colorbar(label='Day of the week')\n",
    "plt.xlabel('Longitude')\n",
    "plt.ylabel('Latitude')\n",
    "plt.title('Crime Incidents by Day of the Week')\n",
    "plt.show()\n"
   ]
  },
  {
   "cell_type": "code",
   "execution_count": 354,
   "id": "48a6cf55",
   "metadata": {},
   "outputs": [
    {
     "data": {
      "image/png": "[encoded data removed]",
      "text/plain": [
       "<Figure size 1200x600 with 2 Axes>"
      ]
     },
     "metadata": {},
     "output_type": "display_data"
    }
   ],
   "source": [
    "# Assuming there's a column 'num_persons_involved' indicating the number of people involved\n",
    "plt.figure(figsize=(12, 6))\n",
    "plt.scatter(df['X'], df['Y'], c=df['VictimCount'], cmap='jet', alpha=0.5)\n",
    "plt.colorbar(label='Number of Persons Involved')\n",
    "plt.xlabel('X')\n",
    "plt.ylabel('Y')\n",
    "plt.title('Crime Incidents by Number of Persons Involved')\n",
    "plt.show()\n"
   ]
  },
  {
   "cell_type": "code",
   "execution_count": 362,
   "id": "794c1e04",
   "metadata": {},
   "outputs": [
    {
     "name": "stdout",
     "output_type": "stream",
     "text": [
      "Day of Week    |   Number of Crimes\n",
      "-----------------------------------\n",
      "4               |      51\n",
      "3               |      44\n",
      "5               |      43\n",
      "0               |      40\n",
      "1               |      37\n",
      "2               |      32\n",
      "6               |      28\n",
      "\n",
      "The most frequent day for crimes is: 4\n"
     ]
    }
   ],
   "source": [
    "# Grouping by 'DayOfWeek' and counting the number of incidents\n",
    "crime_by_day = df.groupby('DayOfWeek').size().sort_values(ascending=False)\n",
    "\n",
    "# Displaying the results in a structured manner\n",
    "print(\"Day of Week    |   Number of Crimes\")\n",
    "print(\"-----------------------------------\")\n",
    "for day, count in crime_by_day.iteritems():\n",
    "    print(f\"{day:<15} |   {count:>5}\")\n",
    "\n",
    "# Identifying the most frequent day(s)\n",
    "most_frequent_day = crime_by_day.idxmax()\n",
    "print(f\"\\nThe most frequent day for crimes is: {most_frequent_day}\")\n"
   ]
  },
  {
   "cell_type": "code",
   "execution_count": 363,
   "id": "203ce251",
   "metadata": {},
   "outputs": [
    {
     "data": {
      "image/png": "[encoded data removed]",
      "text/plain": [
       "<Figure size 1000x600 with 1 Axes>"
      ]
     },
     "metadata": {},
     "output_type": "display_data"
    }
   ],
   "source": [
    "import matplotlib.pyplot as plt\n",
    "import warnings\n",
    "\n",
    "# Suppressing warnings\n",
    "warnings.filterwarnings('ignore')\n",
    "\n",
    "# Plotting the data\n",
    "plt.figure(figsize=(10, 6))\n",
    "crime_by_day.plot(kind='bar', color='skyblue')\n",
    "plt.title('Number of Crimes by Day of the Week')\n",
    "plt.xlabel('Day of the Week')\n",
    "plt.ylabel('Number of Crimes')\n",
    "plt.grid(axis='y')\n",
    "\n",
    "# Displaying the plot\n",
    "plt.tight_layout()\n",
    "plt.show()\n"
   ]
  },
  {
   "cell_type": "code",
   "execution_count": null,
   "id": "5236af61",
   "metadata": {},
   "outputs": [],
   "source": []
  }
 ],
 "metadata": {
  "kernelspec": {
   "display_name": "Python 3 (ipykernel)",
   "language": "python",
   "name": "python3"
  },
  "language_info": {
   "codemirror_mode": {
    "name": "ipython",
    "version": 3
   },
   "file_extension": ".py",
   "mimetype": "text/x-python",
   "name": "python",
   "nbconvert_exporter": "python",
   "pygments_lexer": "ipython3",
   "version": "3.11.4"
  }
 },
 "nbformat": 4,
 "nbformat_minor": 5
}
